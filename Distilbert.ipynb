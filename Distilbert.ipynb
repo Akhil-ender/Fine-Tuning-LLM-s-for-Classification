{
  "nbformat": 4,
  "nbformat_minor": 0,
  "metadata": {
    "colab": {
      "provenance": [],
      "gpuType": "T4",
      "authorship_tag": "ABX9TyPzisTaiBaydkCEH+kupY7N",
      "include_colab_link": true
    },
    "kernelspec": {
      "name": "python3",
      "display_name": "Python 3"
    },
    "language_info": {
      "name": "python"
    },
    "accelerator": "GPU",
    "widgets": {
      "application/vnd.jupyter.widget-state+json": {
        "1ec27fcfa16c423fa39d21f47b0a6108": {
          "model_module": "@jupyter-widgets/controls",
          "model_name": "HBoxModel",
          "model_module_version": "1.5.0",
          "state": {
            "_dom_classes": [],
            "_model_module": "@jupyter-widgets/controls",
            "_model_module_version": "1.5.0",
            "_model_name": "HBoxModel",
            "_view_count": null,
            "_view_module": "@jupyter-widgets/controls",
            "_view_module_version": "1.5.0",
            "_view_name": "HBoxView",
            "box_style": "",
            "children": [
              "IPY_MODEL_257d7a5964324fd9aab7653b9c835057",
              "IPY_MODEL_eadc4de8e3454ee69fbe8d4d5c6f20ab",
              "IPY_MODEL_a0966554bf904d2e940114a112c924a1"
            ],
            "layout": "IPY_MODEL_ec5e8ca3bbda4058adcb8c576f038e0a"
          }
        },
        "257d7a5964324fd9aab7653b9c835057": {
          "model_module": "@jupyter-widgets/controls",
          "model_name": "HTMLModel",
          "model_module_version": "1.5.0",
          "state": {
            "_dom_classes": [],
            "_model_module": "@jupyter-widgets/controls",
            "_model_module_version": "1.5.0",
            "_model_name": "HTMLModel",
            "_view_count": null,
            "_view_module": "@jupyter-widgets/controls",
            "_view_module_version": "1.5.0",
            "_view_name": "HTMLView",
            "description": "",
            "description_tooltip": null,
            "layout": "IPY_MODEL_82f3e66e9f9841f8a613d3f76c4a2a70",
            "placeholder": "​",
            "style": "IPY_MODEL_b0d798a010c2412c9b656f0f90148710",
            "value": "Map: 100%"
          }
        },
        "eadc4de8e3454ee69fbe8d4d5c6f20ab": {
          "model_module": "@jupyter-widgets/controls",
          "model_name": "FloatProgressModel",
          "model_module_version": "1.5.0",
          "state": {
            "_dom_classes": [],
            "_model_module": "@jupyter-widgets/controls",
            "_model_module_version": "1.5.0",
            "_model_name": "FloatProgressModel",
            "_view_count": null,
            "_view_module": "@jupyter-widgets/controls",
            "_view_module_version": "1.5.0",
            "_view_name": "ProgressView",
            "bar_style": "success",
            "description": "",
            "description_tooltip": null,
            "layout": "IPY_MODEL_ef7a560cdedd4f8490e114a6fb5d35df",
            "max": 6179,
            "min": 0,
            "orientation": "horizontal",
            "style": "IPY_MODEL_5c97a5d37b774ed889ab4174758b152b",
            "value": 6179
          }
        },
        "a0966554bf904d2e940114a112c924a1": {
          "model_module": "@jupyter-widgets/controls",
          "model_name": "HTMLModel",
          "model_module_version": "1.5.0",
          "state": {
            "_dom_classes": [],
            "_model_module": "@jupyter-widgets/controls",
            "_model_module_version": "1.5.0",
            "_model_name": "HTMLModel",
            "_view_count": null,
            "_view_module": "@jupyter-widgets/controls",
            "_view_module_version": "1.5.0",
            "_view_name": "HTMLView",
            "description": "",
            "description_tooltip": null,
            "layout": "IPY_MODEL_b8ed833ae6e241e6949ad748c4f030f2",
            "placeholder": "​",
            "style": "IPY_MODEL_f2f444845e124423924fae105dd6bbcd",
            "value": " 6179/6179 [00:02&lt;00:00, 2624.45 examples/s]"
          }
        },
        "ec5e8ca3bbda4058adcb8c576f038e0a": {
          "model_module": "@jupyter-widgets/base",
          "model_name": "LayoutModel",
          "model_module_version": "1.2.0",
          "state": {
            "_model_module": "@jupyter-widgets/base",
            "_model_module_version": "1.2.0",
            "_model_name": "LayoutModel",
            "_view_count": null,
            "_view_module": "@jupyter-widgets/base",
            "_view_module_version": "1.2.0",
            "_view_name": "LayoutView",
            "align_content": null,
            "align_items": null,
            "align_self": null,
            "border": null,
            "bottom": null,
            "display": null,
            "flex": null,
            "flex_flow": null,
            "grid_area": null,
            "grid_auto_columns": null,
            "grid_auto_flow": null,
            "grid_auto_rows": null,
            "grid_column": null,
            "grid_gap": null,
            "grid_row": null,
            "grid_template_areas": null,
            "grid_template_columns": null,
            "grid_template_rows": null,
            "height": null,
            "justify_content": null,
            "justify_items": null,
            "left": null,
            "margin": null,
            "max_height": null,
            "max_width": null,
            "min_height": null,
            "min_width": null,
            "object_fit": null,
            "object_position": null,
            "order": null,
            "overflow": null,
            "overflow_x": null,
            "overflow_y": null,
            "padding": null,
            "right": null,
            "top": null,
            "visibility": null,
            "width": null
          }
        },
        "82f3e66e9f9841f8a613d3f76c4a2a70": {
          "model_module": "@jupyter-widgets/base",
          "model_name": "LayoutModel",
          "model_module_version": "1.2.0",
          "state": {
            "_model_module": "@jupyter-widgets/base",
            "_model_module_version": "1.2.0",
            "_model_name": "LayoutModel",
            "_view_count": null,
            "_view_module": "@jupyter-widgets/base",
            "_view_module_version": "1.2.0",
            "_view_name": "LayoutView",
            "align_content": null,
            "align_items": null,
            "align_self": null,
            "border": null,
            "bottom": null,
            "display": null,
            "flex": null,
            "flex_flow": null,
            "grid_area": null,
            "grid_auto_columns": null,
            "grid_auto_flow": null,
            "grid_auto_rows": null,
            "grid_column": null,
            "grid_gap": null,
            "grid_row": null,
            "grid_template_areas": null,
            "grid_template_columns": null,
            "grid_template_rows": null,
            "height": null,
            "justify_content": null,
            "justify_items": null,
            "left": null,
            "margin": null,
            "max_height": null,
            "max_width": null,
            "min_height": null,
            "min_width": null,
            "object_fit": null,
            "object_position": null,
            "order": null,
            "overflow": null,
            "overflow_x": null,
            "overflow_y": null,
            "padding": null,
            "right": null,
            "top": null,
            "visibility": null,
            "width": null
          }
        },
        "b0d798a010c2412c9b656f0f90148710": {
          "model_module": "@jupyter-widgets/controls",
          "model_name": "DescriptionStyleModel",
          "model_module_version": "1.5.0",
          "state": {
            "_model_module": "@jupyter-widgets/controls",
            "_model_module_version": "1.5.0",
            "_model_name": "DescriptionStyleModel",
            "_view_count": null,
            "_view_module": "@jupyter-widgets/base",
            "_view_module_version": "1.2.0",
            "_view_name": "StyleView",
            "description_width": ""
          }
        },
        "ef7a560cdedd4f8490e114a6fb5d35df": {
          "model_module": "@jupyter-widgets/base",
          "model_name": "LayoutModel",
          "model_module_version": "1.2.0",
          "state": {
            "_model_module": "@jupyter-widgets/base",
            "_model_module_version": "1.2.0",
            "_model_name": "LayoutModel",
            "_view_count": null,
            "_view_module": "@jupyter-widgets/base",
            "_view_module_version": "1.2.0",
            "_view_name": "LayoutView",
            "align_content": null,
            "align_items": null,
            "align_self": null,
            "border": null,
            "bottom": null,
            "display": null,
            "flex": null,
            "flex_flow": null,
            "grid_area": null,
            "grid_auto_columns": null,
            "grid_auto_flow": null,
            "grid_auto_rows": null,
            "grid_column": null,
            "grid_gap": null,
            "grid_row": null,
            "grid_template_areas": null,
            "grid_template_columns": null,
            "grid_template_rows": null,
            "height": null,
            "justify_content": null,
            "justify_items": null,
            "left": null,
            "margin": null,
            "max_height": null,
            "max_width": null,
            "min_height": null,
            "min_width": null,
            "object_fit": null,
            "object_position": null,
            "order": null,
            "overflow": null,
            "overflow_x": null,
            "overflow_y": null,
            "padding": null,
            "right": null,
            "top": null,
            "visibility": null,
            "width": null
          }
        },
        "5c97a5d37b774ed889ab4174758b152b": {
          "model_module": "@jupyter-widgets/controls",
          "model_name": "ProgressStyleModel",
          "model_module_version": "1.5.0",
          "state": {
            "_model_module": "@jupyter-widgets/controls",
            "_model_module_version": "1.5.0",
            "_model_name": "ProgressStyleModel",
            "_view_count": null,
            "_view_module": "@jupyter-widgets/base",
            "_view_module_version": "1.2.0",
            "_view_name": "StyleView",
            "bar_color": null,
            "description_width": ""
          }
        },
        "b8ed833ae6e241e6949ad748c4f030f2": {
          "model_module": "@jupyter-widgets/base",
          "model_name": "LayoutModel",
          "model_module_version": "1.2.0",
          "state": {
            "_model_module": "@jupyter-widgets/base",
            "_model_module_version": "1.2.0",
            "_model_name": "LayoutModel",
            "_view_count": null,
            "_view_module": "@jupyter-widgets/base",
            "_view_module_version": "1.2.0",
            "_view_name": "LayoutView",
            "align_content": null,
            "align_items": null,
            "align_self": null,
            "border": null,
            "bottom": null,
            "display": null,
            "flex": null,
            "flex_flow": null,
            "grid_area": null,
            "grid_auto_columns": null,
            "grid_auto_flow": null,
            "grid_auto_rows": null,
            "grid_column": null,
            "grid_gap": null,
            "grid_row": null,
            "grid_template_areas": null,
            "grid_template_columns": null,
            "grid_template_rows": null,
            "height": null,
            "justify_content": null,
            "justify_items": null,
            "left": null,
            "margin": null,
            "max_height": null,
            "max_width": null,
            "min_height": null,
            "min_width": null,
            "object_fit": null,
            "object_position": null,
            "order": null,
            "overflow": null,
            "overflow_x": null,
            "overflow_y": null,
            "padding": null,
            "right": null,
            "top": null,
            "visibility": null,
            "width": null
          }
        },
        "f2f444845e124423924fae105dd6bbcd": {
          "model_module": "@jupyter-widgets/controls",
          "model_name": "DescriptionStyleModel",
          "model_module_version": "1.5.0",
          "state": {
            "_model_module": "@jupyter-widgets/controls",
            "_model_module_version": "1.5.0",
            "_model_name": "DescriptionStyleModel",
            "_view_count": null,
            "_view_module": "@jupyter-widgets/base",
            "_view_module_version": "1.2.0",
            "_view_name": "StyleView",
            "description_width": ""
          }
        },
        "731e389bf70c401ba938964a1c6d900a": {
          "model_module": "@jupyter-widgets/controls",
          "model_name": "HBoxModel",
          "model_module_version": "1.5.0",
          "state": {
            "_dom_classes": [],
            "_model_module": "@jupyter-widgets/controls",
            "_model_module_version": "1.5.0",
            "_model_name": "HBoxModel",
            "_view_count": null,
            "_view_module": "@jupyter-widgets/controls",
            "_view_module_version": "1.5.0",
            "_view_name": "HBoxView",
            "box_style": "",
            "children": [
              "IPY_MODEL_1982ac7dbc6a43939393b4585dd6e980",
              "IPY_MODEL_1edcd93a2f0a4173afa89d2a025a20d3",
              "IPY_MODEL_19e0594dc5484fdf99ae5470690f2381"
            ],
            "layout": "IPY_MODEL_2a6776d9c06e48b3a29f74e70d9a4d4c"
          }
        },
        "1982ac7dbc6a43939393b4585dd6e980": {
          "model_module": "@jupyter-widgets/controls",
          "model_name": "HTMLModel",
          "model_module_version": "1.5.0",
          "state": {
            "_dom_classes": [],
            "_model_module": "@jupyter-widgets/controls",
            "_model_module_version": "1.5.0",
            "_model_name": "HTMLModel",
            "_view_count": null,
            "_view_module": "@jupyter-widgets/controls",
            "_view_module_version": "1.5.0",
            "_view_name": "HTMLView",
            "description": "",
            "description_tooltip": null,
            "layout": "IPY_MODEL_48885627bce84de4afbb952a60dfd695",
            "placeholder": "​",
            "style": "IPY_MODEL_a3c0bcc04c1f4bd7811be4f467f3a02d",
            "value": "Map: 100%"
          }
        },
        "1edcd93a2f0a4173afa89d2a025a20d3": {
          "model_module": "@jupyter-widgets/controls",
          "model_name": "FloatProgressModel",
          "model_module_version": "1.5.0",
          "state": {
            "_dom_classes": [],
            "_model_module": "@jupyter-widgets/controls",
            "_model_module_version": "1.5.0",
            "_model_name": "FloatProgressModel",
            "_view_count": null,
            "_view_module": "@jupyter-widgets/controls",
            "_view_module_version": "1.5.0",
            "_view_name": "ProgressView",
            "bar_style": "success",
            "description": "",
            "description_tooltip": null,
            "layout": "IPY_MODEL_22c481a617de4146a31f695b7c1c6911",
            "max": 1545,
            "min": 0,
            "orientation": "horizontal",
            "style": "IPY_MODEL_b81471a06f4a4adb87e23f133ce4b49e",
            "value": 1545
          }
        },
        "19e0594dc5484fdf99ae5470690f2381": {
          "model_module": "@jupyter-widgets/controls",
          "model_name": "HTMLModel",
          "model_module_version": "1.5.0",
          "state": {
            "_dom_classes": [],
            "_model_module": "@jupyter-widgets/controls",
            "_model_module_version": "1.5.0",
            "_model_name": "HTMLModel",
            "_view_count": null,
            "_view_module": "@jupyter-widgets/controls",
            "_view_module_version": "1.5.0",
            "_view_name": "HTMLView",
            "description": "",
            "description_tooltip": null,
            "layout": "IPY_MODEL_68ad87cc636e49d2b5f53258a3fc883f",
            "placeholder": "​",
            "style": "IPY_MODEL_b7fa0645232e476c9e8999cd6d084669",
            "value": " 1545/1545 [00:00&lt;00:00, 2217.93 examples/s]"
          }
        },
        "2a6776d9c06e48b3a29f74e70d9a4d4c": {
          "model_module": "@jupyter-widgets/base",
          "model_name": "LayoutModel",
          "model_module_version": "1.2.0",
          "state": {
            "_model_module": "@jupyter-widgets/base",
            "_model_module_version": "1.2.0",
            "_model_name": "LayoutModel",
            "_view_count": null,
            "_view_module": "@jupyter-widgets/base",
            "_view_module_version": "1.2.0",
            "_view_name": "LayoutView",
            "align_content": null,
            "align_items": null,
            "align_self": null,
            "border": null,
            "bottom": null,
            "display": null,
            "flex": null,
            "flex_flow": null,
            "grid_area": null,
            "grid_auto_columns": null,
            "grid_auto_flow": null,
            "grid_auto_rows": null,
            "grid_column": null,
            "grid_gap": null,
            "grid_row": null,
            "grid_template_areas": null,
            "grid_template_columns": null,
            "grid_template_rows": null,
            "height": null,
            "justify_content": null,
            "justify_items": null,
            "left": null,
            "margin": null,
            "max_height": null,
            "max_width": null,
            "min_height": null,
            "min_width": null,
            "object_fit": null,
            "object_position": null,
            "order": null,
            "overflow": null,
            "overflow_x": null,
            "overflow_y": null,
            "padding": null,
            "right": null,
            "top": null,
            "visibility": null,
            "width": null
          }
        },
        "48885627bce84de4afbb952a60dfd695": {
          "model_module": "@jupyter-widgets/base",
          "model_name": "LayoutModel",
          "model_module_version": "1.2.0",
          "state": {
            "_model_module": "@jupyter-widgets/base",
            "_model_module_version": "1.2.0",
            "_model_name": "LayoutModel",
            "_view_count": null,
            "_view_module": "@jupyter-widgets/base",
            "_view_module_version": "1.2.0",
            "_view_name": "LayoutView",
            "align_content": null,
            "align_items": null,
            "align_self": null,
            "border": null,
            "bottom": null,
            "display": null,
            "flex": null,
            "flex_flow": null,
            "grid_area": null,
            "grid_auto_columns": null,
            "grid_auto_flow": null,
            "grid_auto_rows": null,
            "grid_column": null,
            "grid_gap": null,
            "grid_row": null,
            "grid_template_areas": null,
            "grid_template_columns": null,
            "grid_template_rows": null,
            "height": null,
            "justify_content": null,
            "justify_items": null,
            "left": null,
            "margin": null,
            "max_height": null,
            "max_width": null,
            "min_height": null,
            "min_width": null,
            "object_fit": null,
            "object_position": null,
            "order": null,
            "overflow": null,
            "overflow_x": null,
            "overflow_y": null,
            "padding": null,
            "right": null,
            "top": null,
            "visibility": null,
            "width": null
          }
        },
        "a3c0bcc04c1f4bd7811be4f467f3a02d": {
          "model_module": "@jupyter-widgets/controls",
          "model_name": "DescriptionStyleModel",
          "model_module_version": "1.5.0",
          "state": {
            "_model_module": "@jupyter-widgets/controls",
            "_model_module_version": "1.5.0",
            "_model_name": "DescriptionStyleModel",
            "_view_count": null,
            "_view_module": "@jupyter-widgets/base",
            "_view_module_version": "1.2.0",
            "_view_name": "StyleView",
            "description_width": ""
          }
        },
        "22c481a617de4146a31f695b7c1c6911": {
          "model_module": "@jupyter-widgets/base",
          "model_name": "LayoutModel",
          "model_module_version": "1.2.0",
          "state": {
            "_model_module": "@jupyter-widgets/base",
            "_model_module_version": "1.2.0",
            "_model_name": "LayoutModel",
            "_view_count": null,
            "_view_module": "@jupyter-widgets/base",
            "_view_module_version": "1.2.0",
            "_view_name": "LayoutView",
            "align_content": null,
            "align_items": null,
            "align_self": null,
            "border": null,
            "bottom": null,
            "display": null,
            "flex": null,
            "flex_flow": null,
            "grid_area": null,
            "grid_auto_columns": null,
            "grid_auto_flow": null,
            "grid_auto_rows": null,
            "grid_column": null,
            "grid_gap": null,
            "grid_row": null,
            "grid_template_areas": null,
            "grid_template_columns": null,
            "grid_template_rows": null,
            "height": null,
            "justify_content": null,
            "justify_items": null,
            "left": null,
            "margin": null,
            "max_height": null,
            "max_width": null,
            "min_height": null,
            "min_width": null,
            "object_fit": null,
            "object_position": null,
            "order": null,
            "overflow": null,
            "overflow_x": null,
            "overflow_y": null,
            "padding": null,
            "right": null,
            "top": null,
            "visibility": null,
            "width": null
          }
        },
        "b81471a06f4a4adb87e23f133ce4b49e": {
          "model_module": "@jupyter-widgets/controls",
          "model_name": "ProgressStyleModel",
          "model_module_version": "1.5.0",
          "state": {
            "_model_module": "@jupyter-widgets/controls",
            "_model_module_version": "1.5.0",
            "_model_name": "ProgressStyleModel",
            "_view_count": null,
            "_view_module": "@jupyter-widgets/base",
            "_view_module_version": "1.2.0",
            "_view_name": "StyleView",
            "bar_color": null,
            "description_width": ""
          }
        },
        "68ad87cc636e49d2b5f53258a3fc883f": {
          "model_module": "@jupyter-widgets/base",
          "model_name": "LayoutModel",
          "model_module_version": "1.2.0",
          "state": {
            "_model_module": "@jupyter-widgets/base",
            "_model_module_version": "1.2.0",
            "_model_name": "LayoutModel",
            "_view_count": null,
            "_view_module": "@jupyter-widgets/base",
            "_view_module_version": "1.2.0",
            "_view_name": "LayoutView",
            "align_content": null,
            "align_items": null,
            "align_self": null,
            "border": null,
            "bottom": null,
            "display": null,
            "flex": null,
            "flex_flow": null,
            "grid_area": null,
            "grid_auto_columns": null,
            "grid_auto_flow": null,
            "grid_auto_rows": null,
            "grid_column": null,
            "grid_gap": null,
            "grid_row": null,
            "grid_template_areas": null,
            "grid_template_columns": null,
            "grid_template_rows": null,
            "height": null,
            "justify_content": null,
            "justify_items": null,
            "left": null,
            "margin": null,
            "max_height": null,
            "max_width": null,
            "min_height": null,
            "min_width": null,
            "object_fit": null,
            "object_position": null,
            "order": null,
            "overflow": null,
            "overflow_x": null,
            "overflow_y": null,
            "padding": null,
            "right": null,
            "top": null,
            "visibility": null,
            "width": null
          }
        },
        "b7fa0645232e476c9e8999cd6d084669": {
          "model_module": "@jupyter-widgets/controls",
          "model_name": "DescriptionStyleModel",
          "model_module_version": "1.5.0",
          "state": {
            "_model_module": "@jupyter-widgets/controls",
            "_model_module_version": "1.5.0",
            "_model_name": "DescriptionStyleModel",
            "_view_count": null,
            "_view_module": "@jupyter-widgets/base",
            "_view_module_version": "1.2.0",
            "_view_name": "StyleView",
            "description_width": ""
          }
        },
        "6b9a36e15e534021b08893aef00b0d34": {
          "model_module": "@jupyter-widgets/controls",
          "model_name": "HBoxModel",
          "model_module_version": "1.5.0",
          "state": {
            "_dom_classes": [],
            "_model_module": "@jupyter-widgets/controls",
            "_model_module_version": "1.5.0",
            "_model_name": "HBoxModel",
            "_view_count": null,
            "_view_module": "@jupyter-widgets/controls",
            "_view_module_version": "1.5.0",
            "_view_name": "HBoxView",
            "box_style": "",
            "children": [
              "IPY_MODEL_83c68b6f55d54d39b92033a3355e8542",
              "IPY_MODEL_599461b6a0e94f1a8c43cc10943b5a98",
              "IPY_MODEL_50a085a3b830445aaa1a2b8bab7dfd3e"
            ],
            "layout": "IPY_MODEL_a4e49cb2385f4afb84c403a90878a261"
          }
        },
        "83c68b6f55d54d39b92033a3355e8542": {
          "model_module": "@jupyter-widgets/controls",
          "model_name": "HTMLModel",
          "model_module_version": "1.5.0",
          "state": {
            "_dom_classes": [],
            "_model_module": "@jupyter-widgets/controls",
            "_model_module_version": "1.5.0",
            "_model_name": "HTMLModel",
            "_view_count": null,
            "_view_module": "@jupyter-widgets/controls",
            "_view_module_version": "1.5.0",
            "_view_name": "HTMLView",
            "description": "",
            "description_tooltip": null,
            "layout": "IPY_MODEL_9c5c972500374ae1a07ceb0e053cc18e",
            "placeholder": "​",
            "style": "IPY_MODEL_66332848560a4f85bab0ef2e33b882cb",
            "value": "Map: 100%"
          }
        },
        "599461b6a0e94f1a8c43cc10943b5a98": {
          "model_module": "@jupyter-widgets/controls",
          "model_name": "FloatProgressModel",
          "model_module_version": "1.5.0",
          "state": {
            "_dom_classes": [],
            "_model_module": "@jupyter-widgets/controls",
            "_model_module_version": "1.5.0",
            "_model_name": "FloatProgressModel",
            "_view_count": null,
            "_view_module": "@jupyter-widgets/controls",
            "_view_module_version": "1.5.0",
            "_view_name": "ProgressView",
            "bar_style": "success",
            "description": "",
            "description_tooltip": null,
            "layout": "IPY_MODEL_98cd5d1c874a42768077c09b0098aadc",
            "max": 3259,
            "min": 0,
            "orientation": "horizontal",
            "style": "IPY_MODEL_33ec4d78170143779ffd36dd91fef6bc",
            "value": 3259
          }
        },
        "50a085a3b830445aaa1a2b8bab7dfd3e": {
          "model_module": "@jupyter-widgets/controls",
          "model_name": "HTMLModel",
          "model_module_version": "1.5.0",
          "state": {
            "_dom_classes": [],
            "_model_module": "@jupyter-widgets/controls",
            "_model_module_version": "1.5.0",
            "_model_name": "HTMLModel",
            "_view_count": null,
            "_view_module": "@jupyter-widgets/controls",
            "_view_module_version": "1.5.0",
            "_view_name": "HTMLView",
            "description": "",
            "description_tooltip": null,
            "layout": "IPY_MODEL_423bc11a946e40959b1f981a81f6af8a",
            "placeholder": "​",
            "style": "IPY_MODEL_d47ee87e05044127a98ca0af5bd104e3",
            "value": " 3259/3259 [00:01&lt;00:00, 2477.15 examples/s]"
          }
        },
        "a4e49cb2385f4afb84c403a90878a261": {
          "model_module": "@jupyter-widgets/base",
          "model_name": "LayoutModel",
          "model_module_version": "1.2.0",
          "state": {
            "_model_module": "@jupyter-widgets/base",
            "_model_module_version": "1.2.0",
            "_model_name": "LayoutModel",
            "_view_count": null,
            "_view_module": "@jupyter-widgets/base",
            "_view_module_version": "1.2.0",
            "_view_name": "LayoutView",
            "align_content": null,
            "align_items": null,
            "align_self": null,
            "border": null,
            "bottom": null,
            "display": null,
            "flex": null,
            "flex_flow": null,
            "grid_area": null,
            "grid_auto_columns": null,
            "grid_auto_flow": null,
            "grid_auto_rows": null,
            "grid_column": null,
            "grid_gap": null,
            "grid_row": null,
            "grid_template_areas": null,
            "grid_template_columns": null,
            "grid_template_rows": null,
            "height": null,
            "justify_content": null,
            "justify_items": null,
            "left": null,
            "margin": null,
            "max_height": null,
            "max_width": null,
            "min_height": null,
            "min_width": null,
            "object_fit": null,
            "object_position": null,
            "order": null,
            "overflow": null,
            "overflow_x": null,
            "overflow_y": null,
            "padding": null,
            "right": null,
            "top": null,
            "visibility": null,
            "width": null
          }
        },
        "9c5c972500374ae1a07ceb0e053cc18e": {
          "model_module": "@jupyter-widgets/base",
          "model_name": "LayoutModel",
          "model_module_version": "1.2.0",
          "state": {
            "_model_module": "@jupyter-widgets/base",
            "_model_module_version": "1.2.0",
            "_model_name": "LayoutModel",
            "_view_count": null,
            "_view_module": "@jupyter-widgets/base",
            "_view_module_version": "1.2.0",
            "_view_name": "LayoutView",
            "align_content": null,
            "align_items": null,
            "align_self": null,
            "border": null,
            "bottom": null,
            "display": null,
            "flex": null,
            "flex_flow": null,
            "grid_area": null,
            "grid_auto_columns": null,
            "grid_auto_flow": null,
            "grid_auto_rows": null,
            "grid_column": null,
            "grid_gap": null,
            "grid_row": null,
            "grid_template_areas": null,
            "grid_template_columns": null,
            "grid_template_rows": null,
            "height": null,
            "justify_content": null,
            "justify_items": null,
            "left": null,
            "margin": null,
            "max_height": null,
            "max_width": null,
            "min_height": null,
            "min_width": null,
            "object_fit": null,
            "object_position": null,
            "order": null,
            "overflow": null,
            "overflow_x": null,
            "overflow_y": null,
            "padding": null,
            "right": null,
            "top": null,
            "visibility": null,
            "width": null
          }
        },
        "66332848560a4f85bab0ef2e33b882cb": {
          "model_module": "@jupyter-widgets/controls",
          "model_name": "DescriptionStyleModel",
          "model_module_version": "1.5.0",
          "state": {
            "_model_module": "@jupyter-widgets/controls",
            "_model_module_version": "1.5.0",
            "_model_name": "DescriptionStyleModel",
            "_view_count": null,
            "_view_module": "@jupyter-widgets/base",
            "_view_module_version": "1.2.0",
            "_view_name": "StyleView",
            "description_width": ""
          }
        },
        "98cd5d1c874a42768077c09b0098aadc": {
          "model_module": "@jupyter-widgets/base",
          "model_name": "LayoutModel",
          "model_module_version": "1.2.0",
          "state": {
            "_model_module": "@jupyter-widgets/base",
            "_model_module_version": "1.2.0",
            "_model_name": "LayoutModel",
            "_view_count": null,
            "_view_module": "@jupyter-widgets/base",
            "_view_module_version": "1.2.0",
            "_view_name": "LayoutView",
            "align_content": null,
            "align_items": null,
            "align_self": null,
            "border": null,
            "bottom": null,
            "display": null,
            "flex": null,
            "flex_flow": null,
            "grid_area": null,
            "grid_auto_columns": null,
            "grid_auto_flow": null,
            "grid_auto_rows": null,
            "grid_column": null,
            "grid_gap": null,
            "grid_row": null,
            "grid_template_areas": null,
            "grid_template_columns": null,
            "grid_template_rows": null,
            "height": null,
            "justify_content": null,
            "justify_items": null,
            "left": null,
            "margin": null,
            "max_height": null,
            "max_width": null,
            "min_height": null,
            "min_width": null,
            "object_fit": null,
            "object_position": null,
            "order": null,
            "overflow": null,
            "overflow_x": null,
            "overflow_y": null,
            "padding": null,
            "right": null,
            "top": null,
            "visibility": null,
            "width": null
          }
        },
        "33ec4d78170143779ffd36dd91fef6bc": {
          "model_module": "@jupyter-widgets/controls",
          "model_name": "ProgressStyleModel",
          "model_module_version": "1.5.0",
          "state": {
            "_model_module": "@jupyter-widgets/controls",
            "_model_module_version": "1.5.0",
            "_model_name": "ProgressStyleModel",
            "_view_count": null,
            "_view_module": "@jupyter-widgets/base",
            "_view_module_version": "1.2.0",
            "_view_name": "StyleView",
            "bar_color": null,
            "description_width": ""
          }
        },
        "423bc11a946e40959b1f981a81f6af8a": {
          "model_module": "@jupyter-widgets/base",
          "model_name": "LayoutModel",
          "model_module_version": "1.2.0",
          "state": {
            "_model_module": "@jupyter-widgets/base",
            "_model_module_version": "1.2.0",
            "_model_name": "LayoutModel",
            "_view_count": null,
            "_view_module": "@jupyter-widgets/base",
            "_view_module_version": "1.2.0",
            "_view_name": "LayoutView",
            "align_content": null,
            "align_items": null,
            "align_self": null,
            "border": null,
            "bottom": null,
            "display": null,
            "flex": null,
            "flex_flow": null,
            "grid_area": null,
            "grid_auto_columns": null,
            "grid_auto_flow": null,
            "grid_auto_rows": null,
            "grid_column": null,
            "grid_gap": null,
            "grid_row": null,
            "grid_template_areas": null,
            "grid_template_columns": null,
            "grid_template_rows": null,
            "height": null,
            "justify_content": null,
            "justify_items": null,
            "left": null,
            "margin": null,
            "max_height": null,
            "max_width": null,
            "min_height": null,
            "min_width": null,
            "object_fit": null,
            "object_position": null,
            "order": null,
            "overflow": null,
            "overflow_x": null,
            "overflow_y": null,
            "padding": null,
            "right": null,
            "top": null,
            "visibility": null,
            "width": null
          }
        },
        "d47ee87e05044127a98ca0af5bd104e3": {
          "model_module": "@jupyter-widgets/controls",
          "model_name": "DescriptionStyleModel",
          "model_module_version": "1.5.0",
          "state": {
            "_model_module": "@jupyter-widgets/controls",
            "_model_module_version": "1.5.0",
            "_model_name": "DescriptionStyleModel",
            "_view_count": null,
            "_view_module": "@jupyter-widgets/base",
            "_view_module_version": "1.2.0",
            "_view_name": "StyleView",
            "description_width": ""
          }
        },
        "a4febefecd9449b2b8b46b76c4486373": {
          "model_module": "@jupyter-widgets/controls",
          "model_name": "VBoxModel",
          "model_module_version": "1.5.0",
          "state": {
            "_dom_classes": [],
            "_model_module": "@jupyter-widgets/controls",
            "_model_module_version": "1.5.0",
            "_model_name": "VBoxModel",
            "_view_count": null,
            "_view_module": "@jupyter-widgets/controls",
            "_view_module_version": "1.5.0",
            "_view_name": "VBoxView",
            "box_style": "",
            "children": [
              "IPY_MODEL_2d0827b6a29d4dba9b0f7068075198ad",
              "IPY_MODEL_912fb9eef33a4b3bb2a83cefa7a4307f"
            ],
            "layout": "IPY_MODEL_ed6a5a0f9fbc484d8fe7b7f800648e32"
          }
        },
        "2d0827b6a29d4dba9b0f7068075198ad": {
          "model_module": "@jupyter-widgets/controls",
          "model_name": "LabelModel",
          "model_module_version": "1.5.0",
          "state": {
            "_dom_classes": [],
            "_model_module": "@jupyter-widgets/controls",
            "_model_module_version": "1.5.0",
            "_model_name": "LabelModel",
            "_view_count": null,
            "_view_module": "@jupyter-widgets/controls",
            "_view_module_version": "1.5.0",
            "_view_name": "LabelView",
            "description": "",
            "description_tooltip": null,
            "layout": "IPY_MODEL_6fe18c5e425540729a309e83f6fa5b8a",
            "placeholder": "​",
            "style": "IPY_MODEL_9944928a49b9486c80ac3760240c7d4f",
            "value": "0.022 MB of 0.022 MB uploaded\r"
          }
        },
        "912fb9eef33a4b3bb2a83cefa7a4307f": {
          "model_module": "@jupyter-widgets/controls",
          "model_name": "FloatProgressModel",
          "model_module_version": "1.5.0",
          "state": {
            "_dom_classes": [],
            "_model_module": "@jupyter-widgets/controls",
            "_model_module_version": "1.5.0",
            "_model_name": "FloatProgressModel",
            "_view_count": null,
            "_view_module": "@jupyter-widgets/controls",
            "_view_module_version": "1.5.0",
            "_view_name": "ProgressView",
            "bar_style": "",
            "description": "",
            "description_tooltip": null,
            "layout": "IPY_MODEL_a7617f4d5b4846bc9db933736766440e",
            "max": 1,
            "min": 0,
            "orientation": "horizontal",
            "style": "IPY_MODEL_e100e5e4e7bb4ab08b826cbbb3441c58",
            "value": 1
          }
        },
        "ed6a5a0f9fbc484d8fe7b7f800648e32": {
          "model_module": "@jupyter-widgets/base",
          "model_name": "LayoutModel",
          "model_module_version": "1.2.0",
          "state": {
            "_model_module": "@jupyter-widgets/base",
            "_model_module_version": "1.2.0",
            "_model_name": "LayoutModel",
            "_view_count": null,
            "_view_module": "@jupyter-widgets/base",
            "_view_module_version": "1.2.0",
            "_view_name": "LayoutView",
            "align_content": null,
            "align_items": null,
            "align_self": null,
            "border": null,
            "bottom": null,
            "display": null,
            "flex": null,
            "flex_flow": null,
            "grid_area": null,
            "grid_auto_columns": null,
            "grid_auto_flow": null,
            "grid_auto_rows": null,
            "grid_column": null,
            "grid_gap": null,
            "grid_row": null,
            "grid_template_areas": null,
            "grid_template_columns": null,
            "grid_template_rows": null,
            "height": null,
            "justify_content": null,
            "justify_items": null,
            "left": null,
            "margin": null,
            "max_height": null,
            "max_width": null,
            "min_height": null,
            "min_width": null,
            "object_fit": null,
            "object_position": null,
            "order": null,
            "overflow": null,
            "overflow_x": null,
            "overflow_y": null,
            "padding": null,
            "right": null,
            "top": null,
            "visibility": null,
            "width": null
          }
        },
        "6fe18c5e425540729a309e83f6fa5b8a": {
          "model_module": "@jupyter-widgets/base",
          "model_name": "LayoutModel",
          "model_module_version": "1.2.0",
          "state": {
            "_model_module": "@jupyter-widgets/base",
            "_model_module_version": "1.2.0",
            "_model_name": "LayoutModel",
            "_view_count": null,
            "_view_module": "@jupyter-widgets/base",
            "_view_module_version": "1.2.0",
            "_view_name": "LayoutView",
            "align_content": null,
            "align_items": null,
            "align_self": null,
            "border": null,
            "bottom": null,
            "display": null,
            "flex": null,
            "flex_flow": null,
            "grid_area": null,
            "grid_auto_columns": null,
            "grid_auto_flow": null,
            "grid_auto_rows": null,
            "grid_column": null,
            "grid_gap": null,
            "grid_row": null,
            "grid_template_areas": null,
            "grid_template_columns": null,
            "grid_template_rows": null,
            "height": null,
            "justify_content": null,
            "justify_items": null,
            "left": null,
            "margin": null,
            "max_height": null,
            "max_width": null,
            "min_height": null,
            "min_width": null,
            "object_fit": null,
            "object_position": null,
            "order": null,
            "overflow": null,
            "overflow_x": null,
            "overflow_y": null,
            "padding": null,
            "right": null,
            "top": null,
            "visibility": null,
            "width": null
          }
        },
        "9944928a49b9486c80ac3760240c7d4f": {
          "model_module": "@jupyter-widgets/controls",
          "model_name": "DescriptionStyleModel",
          "model_module_version": "1.5.0",
          "state": {
            "_model_module": "@jupyter-widgets/controls",
            "_model_module_version": "1.5.0",
            "_model_name": "DescriptionStyleModel",
            "_view_count": null,
            "_view_module": "@jupyter-widgets/base",
            "_view_module_version": "1.2.0",
            "_view_name": "StyleView",
            "description_width": ""
          }
        },
        "a7617f4d5b4846bc9db933736766440e": {
          "model_module": "@jupyter-widgets/base",
          "model_name": "LayoutModel",
          "model_module_version": "1.2.0",
          "state": {
            "_model_module": "@jupyter-widgets/base",
            "_model_module_version": "1.2.0",
            "_model_name": "LayoutModel",
            "_view_count": null,
            "_view_module": "@jupyter-widgets/base",
            "_view_module_version": "1.2.0",
            "_view_name": "LayoutView",
            "align_content": null,
            "align_items": null,
            "align_self": null,
            "border": null,
            "bottom": null,
            "display": null,
            "flex": null,
            "flex_flow": null,
            "grid_area": null,
            "grid_auto_columns": null,
            "grid_auto_flow": null,
            "grid_auto_rows": null,
            "grid_column": null,
            "grid_gap": null,
            "grid_row": null,
            "grid_template_areas": null,
            "grid_template_columns": null,
            "grid_template_rows": null,
            "height": null,
            "justify_content": null,
            "justify_items": null,
            "left": null,
            "margin": null,
            "max_height": null,
            "max_width": null,
            "min_height": null,
            "min_width": null,
            "object_fit": null,
            "object_position": null,
            "order": null,
            "overflow": null,
            "overflow_x": null,
            "overflow_y": null,
            "padding": null,
            "right": null,
            "top": null,
            "visibility": null,
            "width": null
          }
        },
        "e100e5e4e7bb4ab08b826cbbb3441c58": {
          "model_module": "@jupyter-widgets/controls",
          "model_name": "ProgressStyleModel",
          "model_module_version": "1.5.0",
          "state": {
            "_model_module": "@jupyter-widgets/controls",
            "_model_module_version": "1.5.0",
            "_model_name": "ProgressStyleModel",
            "_view_count": null,
            "_view_module": "@jupyter-widgets/base",
            "_view_module_version": "1.2.0",
            "_view_name": "StyleView",
            "bar_color": null,
            "description_width": ""
          }
        }
      }
    }
  },
  "cells": [
    {
      "cell_type": "markdown",
      "metadata": {
        "id": "view-in-github",
        "colab_type": "text"
      },
      "source": [
        "<a href=\"https://colab.research.google.com/github/Akhil-ender/Fine-Tuning-LLM-s-for-Classification/blob/main/Distilbert.ipynb\" target=\"_parent\"><img src=\"https://colab.research.google.com/assets/colab-badge.svg\" alt=\"Open In Colab\"/></a>"
      ]
    },
    {
      "cell_type": "code",
      "execution_count": null,
      "metadata": {
        "colab": {
          "base_uri": "https://localhost:8080/"
        },
        "id": "E6DSSRiMSwut",
        "outputId": "87de3fb6-4226-4093-96b4-f7203f86de4b"
      },
      "outputs": [
        {
          "output_type": "stream",
          "name": "stdout",
          "text": [
            "Drive already mounted at /content/drive; to attempt to forcibly remount, call drive.mount(\"/content/drive\", force_remount=True).\n"
          ]
        }
      ],
      "source": [
        "from google.colab import drive\n",
        "import sys\n",
        "# Mount the Google Drive to access files stored there\n",
        "drive.mount('/content/drive')\n",
        "sys.path.append('/content/drive/MyDrive/NLP/Class_notebooks/Custom_Funtions')\n",
        "\n",
        "# Install the latest version of torchtext library quietly without showing output\n",
        "!pip install torchtext -qq\n",
        "!pip install transformers evaluate wandb datasets accelerate -U -qq ## NEW LINES ##\n",
        "basepath = '/content/drive/MyDrive/data/'"
      ]
    },
    {
      "cell_type": "code",
      "source": [
        "# standard data science librraies for data handling and v isualization\n",
        "import matplotlib.pyplot as plt\n",
        "import numpy as np\n",
        "import pandas as pd\n",
        "from sklearn.metrics import confusion_matrix\n",
        "from sklearn.metrics import f1_score, accuracy_score\n",
        "import matplotlib.pyplot as plt\n",
        "import seaborn as sns\n",
        "from pathlib import Path\n",
        "import CustomPreprocessorSpacy as cp\n",
        "import torch\n",
        "import torch.nn as nn\n",
        "\n",
        "\n",
        "# New libraries introduced in this notebook\n",
        "import evaluate\n",
        "from datasets import Dataset\n",
        "from torch.utils.data import  DataLoader, RandomSampler, SequentialSampler\n",
        "from transformers import TrainingArguments, Trainer\n",
        "from transformers import AutoTokenizer\n",
        "from transformers import AutoModelForSequenceClassification\n",
        "from transformers import AutoConfig\n",
        "from transformers import pipeline\n",
        "from transformers import DistilBertTokenizer, DistilBertModel\n",
        "from transformers import DistilBertTokenizerFast, DistilBertForSequenceClassification\n",
        "from transformers import Trainer, TrainingArguments\n",
        "from transformers import EarlyStoppingCallback\n",
        "from transformers import pipeline\n",
        "from datasets import load_dataset, load_metric\n",
        "import numpy as np\n",
        "\n",
        "import wandb"
      ],
      "metadata": {
        "id": "4qDGSCDqvmXu"
      },
      "execution_count": null,
      "outputs": []
    },
    {
      "cell_type": "code",
      "source": [
        "model_folder = '/content/drive/MyDrive/NLP/Assignments/HW6/Distilbert'"
      ],
      "metadata": {
        "id": "q6cT11_wwjQ3"
      },
      "execution_count": null,
      "outputs": []
    },
    {
      "cell_type": "code",
      "source": [
        "train = pd.read_csv('/content/drive/MyDrive/NLP/Assignments/HW5/train.csv')\n",
        "test = pd.read_csv('/content/drive/MyDrive/NLP/Assignments/HW5/test.csv')"
      ],
      "metadata": {
        "id": "QK9_9j8Hx_EN"
      },
      "execution_count": null,
      "outputs": []
    },
    {
      "cell_type": "code",
      "source": [
        "X_train = train['Tweet']\n",
        "X_test = test['Tweet']\n",
        "y_train = train.drop(['ID','Tweet'],axis=1)\n",
        "y_test = test.drop(['ID','Tweet'],axis=1)"
      ],
      "metadata": {
        "id": "WcWSFq4Fz53v"
      },
      "execution_count": null,
      "outputs": []
    },
    {
      "cell_type": "code",
      "source": [
        "X_train"
      ],
      "metadata": {
        "colab": {
          "base_uri": "https://localhost:8080/"
        },
        "id": "QIKelMdTJ5Xm",
        "outputId": "f4013864-5839-41c4-8a16-9b0da5736f65"
      },
      "execution_count": null,
      "outputs": [
        {
          "output_type": "execute_result",
          "data": {
            "text/plain": [
              "0       “Worry is a down payment on a problem you may ...\n",
              "1       Whatever you decide to do make sure it makes y...\n",
              "2       @Max_Kellerman  it also helps that the majorit...\n",
              "3       Accept the challenges so that you can literall...\n",
              "4       My roommate: it's okay that we can't spell bec...\n",
              "                              ...                        \n",
              "7719    @BadHombreNPS @SecretaryPerry If this didn't m...\n",
              "7720    Excited to watch #stateoforigin tonight! Come ...\n",
              "7721    Blah blah blah Kyrie, IT, etc. @CJC9BOSS leavi...\n",
              "7722    #ThingsIveLearned The wise #shepherd never tru...\n",
              "7723    I am really flattered and happy to hear those ...\n",
              "Name: Tweet, Length: 7724, dtype: object"
            ]
          },
          "metadata": {},
          "execution_count": 6
        }
      ]
    },
    {
      "cell_type": "code",
      "source": [
        "# Making Sure all the labels are an int datatype\n",
        "y_train = y_train.apply(lambda x: list(map(float, x)))"
      ],
      "metadata": {
        "id": "iIoOVBSDyBcK"
      },
      "execution_count": null,
      "outputs": []
    },
    {
      "cell_type": "code",
      "source": [
        "for column in y_test:\n",
        "    y_test[column] = y_test[column].apply(lambda x: 0 if x == \"NONE\" else 1)\n",
        "y_test = y_test.apply(lambda x: list(map(float, x)))"
      ],
      "metadata": {
        "id": "z1_CH2nyyBaD"
      },
      "execution_count": null,
      "outputs": []
    },
    {
      "cell_type": "code",
      "source": [
        "X_train_cleaned = cp.SpacyPreprocessor(model='en_core_web_sm', batch_size = 128).transform(X_train.values)\n",
        "X_test_cleaned = cp.SpacyPreprocessor(model='en_core_web_sm', batch_size = 128).transform(X_test.values)"
      ],
      "metadata": {
        "colab": {
          "base_uri": "https://localhost:8080/"
        },
        "id": "K85MR0ZGVT7A",
        "outputId": "1934ce5d-5714-4eb8-86a9-bfc24b6c2fd5"
      },
      "execution_count": null,
      "outputs": [
        {
          "output_type": "stream",
          "name": "stderr",
          "text": [
            "/content/drive/MyDrive/NLP/Class_notebooks/Custom_Funtions/CustomPreprocessorSpacy.py:83: MarkupResemblesLocatorWarning: The input looks more like a filename than markup. You may want to open this file and pass the filehandle into Beautiful Soup.\n",
            "  soup = BeautifulSoup(text, \"html.parser\")\n",
            "/content/drive/MyDrive/NLP/Class_notebooks/Custom_Funtions/CustomPreprocessorSpacy.py:83: MarkupResemblesLocatorWarning: The input looks more like a filename than markup. You may want to open this file and pass the filehandle into Beautiful Soup.\n",
            "  soup = BeautifulSoup(text, \"html.parser\")\n"
          ]
        }
      ]
    },
    {
      "cell_type": "code",
      "source": [
        "DS = Dataset.from_dict({\n",
        "    'texts': X_train_cleaned,\n",
        "    'labels': y_train.values\n",
        "})\n",
        "\n",
        "testset = Dataset.from_dict({\n",
        "    'texts': X_test_cleaned,\n",
        "    'labels': y_test.values\n",
        "})"
      ],
      "metadata": {
        "id": "0_owt6QqnpbI"
      },
      "execution_count": null,
      "outputs": []
    },
    {
      "cell_type": "code",
      "source": [
        "# Splitting the given train set into Trainset and Evaluation Set\n",
        "train_eval_split = DS.train_test_split(test_size=0.2)\n",
        "trainset = train_eval_split['train']\n",
        "valset = train_eval_split['test']"
      ],
      "metadata": {
        "id": "LakPAQAipPLa"
      },
      "execution_count": null,
      "outputs": []
    },
    {
      "cell_type": "code",
      "source": [
        "trainset.features"
      ],
      "metadata": {
        "colab": {
          "base_uri": "https://localhost:8080/"
        },
        "id": "YNy9cF2nR4Mj",
        "outputId": "2b4b20cc-861f-40ad-dc17-aebaac3a82d5"
      },
      "execution_count": null,
      "outputs": [
        {
          "output_type": "execute_result",
          "data": {
            "text/plain": [
              "{'texts': Value(dtype='string', id=None),\n",
              " 'labels': Sequence(feature=Value(dtype='float64', id=None), length=-1, id=None)}"
            ]
          },
          "metadata": {},
          "execution_count": 14
        }
      ]
    },
    {
      "cell_type": "code",
      "source": [
        "tokenizer = AutoTokenizer.from_pretrained('distilbert-base-uncased')\n",
        "\n",
        "def tokenize_function(examples):\n",
        "    return tokenizer(examples[\"texts\"],padding=\"max_length\", truncation=True)\n",
        "\n",
        "tokenized_trainsets = trainset.map(tokenize_function, batched=True)\n"
      ],
      "metadata": {
        "colab": {
          "base_uri": "https://localhost:8080/",
          "height": 176,
          "referenced_widgets": [
            "1ec27fcfa16c423fa39d21f47b0a6108",
            "257d7a5964324fd9aab7653b9c835057",
            "eadc4de8e3454ee69fbe8d4d5c6f20ab",
            "a0966554bf904d2e940114a112c924a1",
            "ec5e8ca3bbda4058adcb8c576f038e0a",
            "82f3e66e9f9841f8a613d3f76c4a2a70",
            "b0d798a010c2412c9b656f0f90148710",
            "ef7a560cdedd4f8490e114a6fb5d35df",
            "5c97a5d37b774ed889ab4174758b152b",
            "b8ed833ae6e241e6949ad748c4f030f2",
            "f2f444845e124423924fae105dd6bbcd"
          ]
        },
        "id": "zySU-zEh0qCy",
        "outputId": "22862cb3-30ec-40af-c567-039d033c8a48"
      },
      "execution_count": null,
      "outputs": [
        {
          "output_type": "stream",
          "name": "stderr",
          "text": [
            "/usr/local/lib/python3.10/dist-packages/huggingface_hub/utils/_token.py:88: UserWarning: \n",
            "The secret `HF_TOKEN` does not exist in your Colab secrets.\n",
            "To authenticate with the Hugging Face Hub, create a token in your settings tab (https://huggingface.co/settings/tokens), set it as secret in your Google Colab and restart your session.\n",
            "You will be able to reuse this secret in all of your notebooks.\n",
            "Please note that authentication is recommended but still optional to access public models or datasets.\n",
            "  warnings.warn(\n"
          ]
        },
        {
          "output_type": "display_data",
          "data": {
            "text/plain": [
              "Map:   0%|          | 0/6179 [00:00<?, ? examples/s]"
            ],
            "application/vnd.jupyter.widget-view+json": {
              "version_major": 2,
              "version_minor": 0,
              "model_id": "1ec27fcfa16c423fa39d21f47b0a6108"
            }
          },
          "metadata": {}
        }
      ]
    },
    {
      "cell_type": "code",
      "source": [
        "tokenized_valsets = valset.map(tokenize_function, batched=True)\n",
        "tokenized_testsets = testset.map(tokenize_function, batched=True)"
      ],
      "metadata": {
        "colab": {
          "base_uri": "https://localhost:8080/",
          "height": 81,
          "referenced_widgets": [
            "731e389bf70c401ba938964a1c6d900a",
            "1982ac7dbc6a43939393b4585dd6e980",
            "1edcd93a2f0a4173afa89d2a025a20d3",
            "19e0594dc5484fdf99ae5470690f2381",
            "2a6776d9c06e48b3a29f74e70d9a4d4c",
            "48885627bce84de4afbb952a60dfd695",
            "a3c0bcc04c1f4bd7811be4f467f3a02d",
            "22c481a617de4146a31f695b7c1c6911",
            "b81471a06f4a4adb87e23f133ce4b49e",
            "68ad87cc636e49d2b5f53258a3fc883f",
            "b7fa0645232e476c9e8999cd6d084669",
            "6b9a36e15e534021b08893aef00b0d34",
            "83c68b6f55d54d39b92033a3355e8542",
            "599461b6a0e94f1a8c43cc10943b5a98",
            "50a085a3b830445aaa1a2b8bab7dfd3e",
            "a4e49cb2385f4afb84c403a90878a261",
            "9c5c972500374ae1a07ceb0e053cc18e",
            "66332848560a4f85bab0ef2e33b882cb",
            "98cd5d1c874a42768077c09b0098aadc",
            "33ec4d78170143779ffd36dd91fef6bc",
            "423bc11a946e40959b1f981a81f6af8a",
            "d47ee87e05044127a98ca0af5bd104e3"
          ]
        },
        "id": "qmz-cfLw04J7",
        "outputId": "9d6f60c9-d1d7-43bc-e558-a44482e5f957"
      },
      "execution_count": null,
      "outputs": [
        {
          "output_type": "display_data",
          "data": {
            "text/plain": [
              "Map:   0%|          | 0/1545 [00:00<?, ? examples/s]"
            ],
            "application/vnd.jupyter.widget-view+json": {
              "version_major": 2,
              "version_minor": 0,
              "model_id": "731e389bf70c401ba938964a1c6d900a"
            }
          },
          "metadata": {}
        },
        {
          "output_type": "display_data",
          "data": {
            "text/plain": [
              "Map:   0%|          | 0/3259 [00:00<?, ? examples/s]"
            ],
            "application/vnd.jupyter.widget-view+json": {
              "version_major": 2,
              "version_minor": 0,
              "model_id": "6b9a36e15e534021b08893aef00b0d34"
            }
          },
          "metadata": {}
        }
      ]
    },
    {
      "cell_type": "code",
      "source": [
        "tokenized_trainsets.set_format(type=\"torch\")\n",
        "tokenized_valsets.set_format(type=\"torch\")\n",
        "tokenized_testsets.set_format(type=\"torch\")"
      ],
      "metadata": {
        "id": "1WKj9FIN5l37"
      },
      "execution_count": null,
      "outputs": []
    },
    {
      "cell_type": "code",
      "source": [
        "from transformers import AutoModel\n",
        "from transformers import DistilBertForSequenceClassification\n",
        "#from transformers import"
      ],
      "metadata": {
        "id": "hZHyKamPIDY5"
      },
      "execution_count": null,
      "outputs": []
    },
    {
      "cell_type": "code",
      "source": [
        "# model = DistilBertForSequenceClassification.from_pretrained(\"distilbert-base-uncased\",num_labels=11)"
      ],
      "metadata": {
        "id": "oyKjS5Ob1QtP"
      },
      "execution_count": null,
      "outputs": []
    },
    {
      "cell_type": "code",
      "source": [
        "from transformers import DistilBertForSequenceClassification, DistilBertConfig\n",
        "\n",
        "# Configuring the model for multi-label classification\n",
        "config = DistilBertConfig.from_pretrained('distilbert-base-uncased', num_labels=11)\n",
        "model = DistilBertForSequenceClassification(config)\n"
      ],
      "metadata": {
        "id": "MvpGaK-1595S"
      },
      "execution_count": null,
      "outputs": []
    },
    {
      "cell_type": "code",
      "source": [
        "config.id2label = {0:'anger', 1: 'anticipation',2: 'disgust',3: 'fear',4: 'joy',5: 'love',6: 'optimism',\n",
        "  7:'pessimism', 8: 'sadness', 9: 'surprise', 10: 'trust'}"
      ],
      "metadata": {
        "id": "YMxWhaB23XNR"
      },
      "execution_count": null,
      "outputs": []
    },
    {
      "cell_type": "code",
      "source": [
        "config.label2id = {v: k for k, v in config.id2label .items()}"
      ],
      "metadata": {
        "id": "aWG103sGLDqM"
      },
      "execution_count": null,
      "outputs": []
    },
    {
      "cell_type": "code",
      "source": [
        "config.problem_type = \"multi_label_classification\""
      ],
      "metadata": {
        "id": "Zq5yrwHQGqnZ"
      },
      "execution_count": null,
      "outputs": []
    },
    {
      "cell_type": "code",
      "source": [
        "config"
      ],
      "metadata": {
        "colab": {
          "base_uri": "https://localhost:8080/"
        },
        "id": "b4Swqp_V3f5F",
        "outputId": "a4f6b7df-36f1-4aee-c2b9-69ee3967d9e7"
      },
      "execution_count": null,
      "outputs": [
        {
          "output_type": "execute_result",
          "data": {
            "text/plain": [
              "DistilBertConfig {\n",
              "  \"activation\": \"gelu\",\n",
              "  \"architectures\": [\n",
              "    \"DistilBertForMaskedLM\"\n",
              "  ],\n",
              "  \"attention_dropout\": 0.1,\n",
              "  \"dim\": 768,\n",
              "  \"dropout\": 0.1,\n",
              "  \"hidden_dim\": 3072,\n",
              "  \"id2label\": {\n",
              "    \"0\": \"anger\",\n",
              "    \"1\": \"anticipation\",\n",
              "    \"2\": \"disgust\",\n",
              "    \"3\": \"fear\",\n",
              "    \"4\": \"joy\",\n",
              "    \"5\": \"love\",\n",
              "    \"6\": \"optimism\",\n",
              "    \"7\": \"pessimism\",\n",
              "    \"8\": \"sadness\",\n",
              "    \"9\": \"surprise\",\n",
              "    \"10\": \"trust\"\n",
              "  },\n",
              "  \"initializer_range\": 0.02,\n",
              "  \"label2id\": {\n",
              "    \"anger\": 0,\n",
              "    \"anticipation\": 1,\n",
              "    \"disgust\": 2,\n",
              "    \"fear\": 3,\n",
              "    \"joy\": 4,\n",
              "    \"love\": 5,\n",
              "    \"optimism\": 6,\n",
              "    \"pessimism\": 7,\n",
              "    \"sadness\": 8,\n",
              "    \"surprise\": 9,\n",
              "    \"trust\": 10\n",
              "  },\n",
              "  \"max_position_embeddings\": 512,\n",
              "  \"model_type\": \"distilbert\",\n",
              "  \"n_heads\": 12,\n",
              "  \"n_layers\": 6,\n",
              "  \"pad_token_id\": 0,\n",
              "  \"problem_type\": \"multi_label_classification\",\n",
              "  \"qa_dropout\": 0.1,\n",
              "  \"seq_classif_dropout\": 0.2,\n",
              "  \"sinusoidal_pos_embds\": false,\n",
              "  \"tie_weights_\": true,\n",
              "  \"transformers_version\": \"4.39.3\",\n",
              "  \"vocab_size\": 30522\n",
              "}"
            ]
          },
          "metadata": {},
          "execution_count": 24
        }
      ]
    },
    {
      "cell_type": "code",
      "source": [
        "def compute_metrics(eval_pred):\n",
        "    logits, labels = eval_pred\n",
        "    predictions = torch.sigmoid(torch.tensor(logits)) > 0.5\n",
        "    # Flatten to 1D arrays to compute multi-label accuracy or F1\n",
        "    predictions_flat = predictions.flatten()\n",
        "    labels_flat = labels.flatten()\n",
        "    return {\n",
        "        \"f1\": f1_score(labels_flat, predictions_flat, average=\"binary\"),\n",
        "        \"accuracy\": accuracy_score(labels_flat, predictions_flat),\n",
        "    }\n"
      ],
      "metadata": {
        "id": "hnYIF2DXRHBr"
      },
      "execution_count": null,
      "outputs": []
    },
    {
      "cell_type": "code",
      "source": [
        "# Configure training parameters\n",
        "training_args = TrainingArguments(\n",
        "\n",
        "    # Training-specific configurations\n",
        "    num_train_epochs=10,\n",
        "    per_device_train_batch_size=8, # Number of samples per training batch\n",
        "    per_device_eval_batch_size=8, # Number of samples per validation batch\n",
        "    weight_decay=0.1, # weight decay (L2 regularization)\n",
        "    learning_rate=3e-5, # learning arte\n",
        "    optim='adamw_torch', # optimizer\n",
        "    remove_unused_columns=False, # flag to retain unused columns\n",
        "\n",
        "    # Checkpoint saving and model evaluation settings\n",
        "    output_dir=model_folder,  # Directory to save model checkpoints\n",
        "    evaluation_strategy='steps',  # Evaluate model at specified step intervals\n",
        "    eval_steps=50,  # Perform evaluation every 50 training steps\n",
        "    save_strategy=\"steps\",  # Save model checkpoint at specified step intervals\n",
        "    save_steps=50,  # Save a model checkpoint every 50 training steps\n",
        "    load_best_model_at_end=True,  # Reload the best model at the end of training\n",
        "    save_total_limit=1,  # Retain only the best and the most recent model checkpoints\n",
        "    # Use 'accuracy' as the metric to determine the best model\n",
        "    metric_for_best_model=\"accuracy\",\n",
        "    greater_is_better=True,  # A model is 'better' if its accuracy is higher\n",
        "\n",
        "\n",
        "    # Experiment logging configurations\n",
        "    logging_strategy='steps',\n",
        "    logging_steps=50,\n",
        "    #report_to='wandb',  # Log metrics and results to Weights & Biases platform\n",
        "    run_name='Distilbert-test',  # Experiment name for Weights & Biases\n",
        ")"
      ],
      "metadata": {
        "id": "G6ytkb1_1UCz"
      },
      "execution_count": null,
      "outputs": []
    },
    {
      "cell_type": "code",
      "source": [
        "trainer = Trainer(\n",
        "    model=model,\n",
        "    args=training_args,\n",
        "    train_dataset=tokenized_trainsets,\n",
        "    eval_dataset=tokenized_valsets,\n",
        "    compute_metrics=compute_metrics,\n",
        "    callbacks=[EarlyStoppingCallback(early_stopping_patience=3)]\n",
        ")\n"
      ],
      "metadata": {
        "colab": {
          "base_uri": "https://localhost:8080/"
        },
        "id": "eB7ktOwk1bJl",
        "outputId": "1afe43bd-ba18-4f71-b57c-6b361e916edd"
      },
      "execution_count": null,
      "outputs": [
        {
          "output_type": "stream",
          "name": "stderr",
          "text": [
            "/usr/local/lib/python3.10/dist-packages/accelerate/accelerator.py:436: FutureWarning: Passing the following arguments to `Accelerator` is deprecated and will be removed in version 1.0 of Accelerate: dict_keys(['dispatch_batches', 'split_batches', 'even_batches', 'use_seedable_sampler']). Please pass an `accelerate.DataLoaderConfiguration` instead: \n",
            "dataloader_config = DataLoaderConfiguration(dispatch_batches=None, split_batches=False, even_batches=True, use_seedable_sampler=True)\n",
            "  warnings.warn(\n"
          ]
        }
      ]
    },
    {
      "cell_type": "code",
      "source": [
        "# specify the project name where the experiment will be logged\n",
        "%env WANDB_PROJECT = nlp_course_spring_2024-HW6-distilbert"
      ],
      "metadata": {
        "colab": {
          "base_uri": "https://localhost:8080/"
        },
        "id": "sTD7DJSAZJJT",
        "outputId": "eaa43e87-1cc3-4795-a2c9-f90fcf413648"
      },
      "execution_count": null,
      "outputs": [
        {
          "output_type": "stream",
          "name": "stdout",
          "text": [
            "env: WANDB_PROJECT=nlp_course_spring_2024-HW6-distilbert\n"
          ]
        }
      ]
    },
    {
      "cell_type": "code",
      "source": [
        "trainer.train()"
      ],
      "metadata": {
        "colab": {
          "base_uri": "https://localhost:8080/",
          "height": 1000
        },
        "id": "43MiWZYc1yJY",
        "outputId": "4b696e52-e9e1-44e1-ec01-9bd43f918847"
      },
      "execution_count": null,
      "outputs": [
        {
          "output_type": "stream",
          "name": "stderr",
          "text": [
            "\u001b[34m\u001b[1mwandb\u001b[0m: Currently logged in as: \u001b[33makhilender01\u001b[0m (\u001b[33makhilender\u001b[0m). Use \u001b[1m`wandb login --relogin`\u001b[0m to force relogin\n"
          ]
        },
        {
          "output_type": "display_data",
          "data": {
            "text/plain": [
              "<IPython.core.display.HTML object>"
            ],
            "text/html": [
              "Tracking run with wandb version 0.16.6"
            ]
          },
          "metadata": {}
        },
        {
          "output_type": "display_data",
          "data": {
            "text/plain": [
              "<IPython.core.display.HTML object>"
            ],
            "text/html": [
              "Run data is saved locally in <code>/content/wandb/run-20240413_222813-t90m7pma</code>"
            ]
          },
          "metadata": {}
        },
        {
          "output_type": "display_data",
          "data": {
            "text/plain": [
              "<IPython.core.display.HTML object>"
            ],
            "text/html": [
              "Syncing run <strong><a href='https://wandb.ai/akhilender/nlp_course_spring_2024-HW6-distilbert/runs/t90m7pma' target=\"_blank\">Distilbert-test</a></strong> to <a href='https://wandb.ai/akhilender/nlp_course_spring_2024-HW6-distilbert' target=\"_blank\">Weights & Biases</a> (<a href='https://wandb.me/run' target=\"_blank\">docs</a>)<br/>"
            ]
          },
          "metadata": {}
        },
        {
          "output_type": "display_data",
          "data": {
            "text/plain": [
              "<IPython.core.display.HTML object>"
            ],
            "text/html": [
              " View project at <a href='https://wandb.ai/akhilender/nlp_course_spring_2024-HW6-distilbert' target=\"_blank\">https://wandb.ai/akhilender/nlp_course_spring_2024-HW6-distilbert</a>"
            ]
          },
          "metadata": {}
        },
        {
          "output_type": "display_data",
          "data": {
            "text/plain": [
              "<IPython.core.display.HTML object>"
            ],
            "text/html": [
              " View run at <a href='https://wandb.ai/akhilender/nlp_course_spring_2024-HW6-distilbert/runs/t90m7pma' target=\"_blank\">https://wandb.ai/akhilender/nlp_course_spring_2024-HW6-distilbert/runs/t90m7pma</a>"
            ]
          },
          "metadata": {}
        },
        {
          "output_type": "display_data",
          "data": {
            "text/plain": [
              "<IPython.core.display.HTML object>"
            ],
            "text/html": [
              "\n",
              "    <div>\n",
              "      \n",
              "      <progress value='1250' max='7730' style='width:300px; height:20px; vertical-align: middle;'></progress>\n",
              "      [1250/7730 29:26 < 2:32:53, 0.71 it/s, Epoch 1/10]\n",
              "    </div>\n",
              "    <table border=\"1\" class=\"dataframe\">\n",
              "  <thead>\n",
              " <tr style=\"text-align: left;\">\n",
              "      <th>Step</th>\n",
              "      <th>Training Loss</th>\n",
              "      <th>Validation Loss</th>\n",
              "      <th>F1</th>\n",
              "      <th>Accuracy</th>\n",
              "    </tr>\n",
              "  </thead>\n",
              "  <tbody>\n",
              "    <tr>\n",
              "      <td>50</td>\n",
              "      <td>0.499400</td>\n",
              "      <td>0.474549</td>\n",
              "      <td>0.001635</td>\n",
              "      <td>0.784466</td>\n",
              "    </tr>\n",
              "    <tr>\n",
              "      <td>100</td>\n",
              "      <td>0.474100</td>\n",
              "      <td>0.471499</td>\n",
              "      <td>0.000000</td>\n",
              "      <td>0.784407</td>\n",
              "    </tr>\n",
              "    <tr>\n",
              "      <td>150</td>\n",
              "      <td>0.482100</td>\n",
              "      <td>0.471824</td>\n",
              "      <td>0.000000</td>\n",
              "      <td>0.784407</td>\n",
              "    </tr>\n",
              "    <tr>\n",
              "      <td>200</td>\n",
              "      <td>0.476000</td>\n",
              "      <td>0.470320</td>\n",
              "      <td>0.030999</td>\n",
              "      <td>0.786643</td>\n",
              "    </tr>\n",
              "    <tr>\n",
              "      <td>250</td>\n",
              "      <td>0.480300</td>\n",
              "      <td>0.474306</td>\n",
              "      <td>0.150582</td>\n",
              "      <td>0.780936</td>\n",
              "    </tr>\n",
              "    <tr>\n",
              "      <td>300</td>\n",
              "      <td>0.472400</td>\n",
              "      <td>0.470031</td>\n",
              "      <td>0.197885</td>\n",
              "      <td>0.785819</td>\n",
              "    </tr>\n",
              "    <tr>\n",
              "      <td>350</td>\n",
              "      <td>0.482300</td>\n",
              "      <td>0.446781</td>\n",
              "      <td>0.212816</td>\n",
              "      <td>0.801942</td>\n",
              "    </tr>\n",
              "    <tr>\n",
              "      <td>400</td>\n",
              "      <td>0.443900</td>\n",
              "      <td>0.452851</td>\n",
              "      <td>0.391190</td>\n",
              "      <td>0.795057</td>\n",
              "    </tr>\n",
              "    <tr>\n",
              "      <td>450</td>\n",
              "      <td>0.440200</td>\n",
              "      <td>0.439291</td>\n",
              "      <td>0.303301</td>\n",
              "      <td>0.807532</td>\n",
              "    </tr>\n",
              "    <tr>\n",
              "      <td>500</td>\n",
              "      <td>0.439800</td>\n",
              "      <td>0.429889</td>\n",
              "      <td>0.413793</td>\n",
              "      <td>0.815946</td>\n",
              "    </tr>\n",
              "    <tr>\n",
              "      <td>550</td>\n",
              "      <td>0.421400</td>\n",
              "      <td>0.420062</td>\n",
              "      <td>0.441727</td>\n",
              "      <td>0.817358</td>\n",
              "    </tr>\n",
              "    <tr>\n",
              "      <td>600</td>\n",
              "      <td>0.412600</td>\n",
              "      <td>0.415056</td>\n",
              "      <td>0.456476</td>\n",
              "      <td>0.819241</td>\n",
              "    </tr>\n",
              "    <tr>\n",
              "      <td>650</td>\n",
              "      <td>0.414700</td>\n",
              "      <td>0.415936</td>\n",
              "      <td>0.418418</td>\n",
              "      <td>0.820888</td>\n",
              "    </tr>\n",
              "    <tr>\n",
              "      <td>700</td>\n",
              "      <td>0.416600</td>\n",
              "      <td>0.414453</td>\n",
              "      <td>0.367239</td>\n",
              "      <td>0.817711</td>\n",
              "    </tr>\n",
              "    <tr>\n",
              "      <td>750</td>\n",
              "      <td>0.417800</td>\n",
              "      <td>0.403758</td>\n",
              "      <td>0.486140</td>\n",
              "      <td>0.825478</td>\n",
              "    </tr>\n",
              "    <tr>\n",
              "      <td>800</td>\n",
              "      <td>0.388000</td>\n",
              "      <td>0.410153</td>\n",
              "      <td>0.489803</td>\n",
              "      <td>0.826302</td>\n",
              "    </tr>\n",
              "    <tr>\n",
              "      <td>850</td>\n",
              "      <td>0.384400</td>\n",
              "      <td>0.397357</td>\n",
              "      <td>0.484241</td>\n",
              "      <td>0.830538</td>\n",
              "    </tr>\n",
              "    <tr>\n",
              "      <td>900</td>\n",
              "      <td>0.376600</td>\n",
              "      <td>0.407042</td>\n",
              "      <td>0.539231</td>\n",
              "      <td>0.826537</td>\n",
              "    </tr>\n",
              "    <tr>\n",
              "      <td>950</td>\n",
              "      <td>0.370300</td>\n",
              "      <td>0.415693</td>\n",
              "      <td>0.504759</td>\n",
              "      <td>0.822418</td>\n",
              "    </tr>\n",
              "    <tr>\n",
              "      <td>1000</td>\n",
              "      <td>0.367100</td>\n",
              "      <td>0.397394</td>\n",
              "      <td>0.531767</td>\n",
              "      <td>0.833480</td>\n",
              "    </tr>\n",
              "    <tr>\n",
              "      <td>1050</td>\n",
              "      <td>0.368300</td>\n",
              "      <td>0.399786</td>\n",
              "      <td>0.519677</td>\n",
              "      <td>0.831951</td>\n",
              "    </tr>\n",
              "    <tr>\n",
              "      <td>1100</td>\n",
              "      <td>0.347000</td>\n",
              "      <td>0.378375</td>\n",
              "      <td>0.560320</td>\n",
              "      <td>0.844954</td>\n",
              "    </tr>\n",
              "    <tr>\n",
              "      <td>1150</td>\n",
              "      <td>0.337300</td>\n",
              "      <td>0.396199</td>\n",
              "      <td>0.577183</td>\n",
              "      <td>0.838188</td>\n",
              "    </tr>\n",
              "    <tr>\n",
              "      <td>1200</td>\n",
              "      <td>0.364400</td>\n",
              "      <td>0.383213</td>\n",
              "      <td>0.548440</td>\n",
              "      <td>0.836540</td>\n",
              "    </tr>\n",
              "    <tr>\n",
              "      <td>1250</td>\n",
              "      <td>0.370700</td>\n",
              "      <td>0.379625</td>\n",
              "      <td>0.567822</td>\n",
              "      <td>0.840836</td>\n",
              "    </tr>\n",
              "  </tbody>\n",
              "</table><p>"
            ]
          },
          "metadata": {}
        },
        {
          "output_type": "execute_result",
          "data": {
            "text/plain": [
              "TrainOutput(global_step=1250, training_loss=0.4179075912475586, metrics={'train_runtime': 1776.9746, 'train_samples_per_second': 34.773, 'train_steps_per_second': 4.35, 'total_flos': 1324224156380160.0, 'train_loss': 0.4179075912475586, 'epoch': 1.62})"
            ]
          },
          "metadata": {},
          "execution_count": 31
        }
      ]
    },
    {
      "cell_type": "code",
      "source": [
        "trainer.evaluate()"
      ],
      "metadata": {
        "colab": {
          "base_uri": "https://localhost:8080/",
          "height": 162
        },
        "id": "yRmAm3XrbM1X",
        "outputId": "f4b44432-88ae-4997-caa7-bf392b4865db"
      },
      "execution_count": null,
      "outputs": [
        {
          "output_type": "display_data",
          "data": {
            "text/plain": [
              "<IPython.core.display.HTML object>"
            ],
            "text/html": [
              "\n",
              "    <div>\n",
              "      \n",
              "      <progress value='194' max='194' style='width:300px; height:20px; vertical-align: middle;'></progress>\n",
              "      [194/194 00:42]\n",
              "    </div>\n",
              "    "
            ]
          },
          "metadata": {}
        },
        {
          "output_type": "execute_result",
          "data": {
            "text/plain": [
              "{'eval_loss': 0.3783750534057617,\n",
              " 'eval_f1': 0.5603203737693977,\n",
              " 'eval_accuracy': 0.8449543983524566,\n",
              " 'eval_runtime': 43.0916,\n",
              " 'eval_samples_per_second': 35.854,\n",
              " 'eval_steps_per_second': 4.502,\n",
              " 'epoch': 1.62}"
            ]
          },
          "metadata": {},
          "execution_count": 32
        }
      ]
    },
    {
      "cell_type": "code",
      "source": [
        "eval_results = trainer.evaluate(tokenized_valsets)"
      ],
      "metadata": {
        "colab": {
          "base_uri": "https://localhost:8080/",
          "height": 37
        },
        "id": "pJQvyyKAWUsR",
        "outputId": "74664cfd-1384-42fa-a0f1-4747b98d02f6"
      },
      "execution_count": null,
      "outputs": [
        {
          "output_type": "display_data",
          "data": {
            "text/plain": [
              "<IPython.core.display.HTML object>"
            ],
            "text/html": [
              "\n",
              "    <div>\n",
              "      \n",
              "      <progress value='388' max='194' style='width:300px; height:20px; vertical-align: middle;'></progress>\n",
              "      [194/194 01:22]\n",
              "    </div>\n",
              "    "
            ]
          },
          "metadata": {}
        }
      ]
    },
    {
      "cell_type": "code",
      "source": [
        "#Log results to Wandb\n",
        "wandb.log({\"eval_accuracy\": eval_results[\"eval_accuracy\"], \"eval_loss\": eval_results[\"eval_loss\"], \"eval_f1\": eval_results[\"eval_f1\"]})"
      ],
      "metadata": {
        "id": "3WMMHbx0V9Fi"
      },
      "execution_count": null,
      "outputs": []
    },
    {
      "cell_type": "code",
      "source": [
        "# After training, let us check the best checkpoint\n",
        "# We need this for Inference\n",
        "best_model_checkpoint_step = trainer.state.best_model_checkpoint.split('-')[-1]\n",
        "print(f\"The best model was saved at step {best_model_checkpoint_step}.\")"
      ],
      "metadata": {
        "colab": {
          "base_uri": "https://localhost:8080/"
        },
        "id": "p7QwbIEHY6VP",
        "outputId": "b5d2e4f7-3e01-450c-cb03-fd8fd73a5733"
      },
      "execution_count": null,
      "outputs": [
        {
          "output_type": "stream",
          "name": "stdout",
          "text": [
            "The best model was saved at step 1100.\n"
          ]
        }
      ]
    },
    {
      "cell_type": "code",
      "source": [
        "model_folder"
      ],
      "metadata": {
        "colab": {
          "base_uri": "https://localhost:8080/",
          "height": 35
        },
        "id": "xHtFNQMHcweI",
        "outputId": "169afb04-e987-4c19-c995-02b5ee26f3f8"
      },
      "execution_count": null,
      "outputs": [
        {
          "output_type": "execute_result",
          "data": {
            "text/plain": [
              "'/content/drive/MyDrive/NLP/Assignments/HW6/Distilbert'"
            ],
            "application/vnd.google.colaboratory.intrinsic+json": {
              "type": "string"
            }
          },
          "metadata": {},
          "execution_count": 36
        }
      ]
    },
    {
      "cell_type": "code",
      "source": [
        "# Loading the saved checkpoint model\n",
        "model_checkpoint = model_folder+'/checkpoint-'+best_model_checkpoint_step"
      ],
      "metadata": {
        "id": "JbWRg_qccfYz"
      },
      "execution_count": null,
      "outputs": []
    },
    {
      "cell_type": "code",
      "source": [
        "model_checkpoint"
      ],
      "metadata": {
        "colab": {
          "base_uri": "https://localhost:8080/",
          "height": 35
        },
        "id": "2WX00p2LdNys",
        "outputId": "855cf890-f857-4945-9807-62b2c50b8d58"
      },
      "execution_count": null,
      "outputs": [
        {
          "output_type": "execute_result",
          "data": {
            "text/plain": [
              "'/content/drive/MyDrive/NLP/Assignments/HW6/Distilbert/checkpoint-1100'"
            ],
            "application/vnd.google.colaboratory.intrinsic+json": {
              "type": "string"
            }
          },
          "metadata": {},
          "execution_count": 38
        }
      ]
    },
    {
      "cell_type": "code",
      "source": [
        "model = DistilBertForSequenceClassification.from_pretrained(model_checkpoint)\n",
        "model.to('cuda')\n",
        "model.eval()"
      ],
      "metadata": {
        "colab": {
          "base_uri": "https://localhost:8080/"
        },
        "id": "7wJ9aRyWdPo2",
        "outputId": "cd90c6d1-759e-4950-ca65-b071697ae5d2"
      },
      "execution_count": null,
      "outputs": [
        {
          "output_type": "execute_result",
          "data": {
            "text/plain": [
              "DistilBertForSequenceClassification(\n",
              "  (distilbert): DistilBertModel(\n",
              "    (embeddings): Embeddings(\n",
              "      (word_embeddings): Embedding(30522, 768, padding_idx=0)\n",
              "      (position_embeddings): Embedding(512, 768)\n",
              "      (LayerNorm): LayerNorm((768,), eps=1e-12, elementwise_affine=True)\n",
              "      (dropout): Dropout(p=0.1, inplace=False)\n",
              "    )\n",
              "    (transformer): Transformer(\n",
              "      (layer): ModuleList(\n",
              "        (0-5): 6 x TransformerBlock(\n",
              "          (attention): MultiHeadSelfAttention(\n",
              "            (dropout): Dropout(p=0.1, inplace=False)\n",
              "            (q_lin): Linear(in_features=768, out_features=768, bias=True)\n",
              "            (k_lin): Linear(in_features=768, out_features=768, bias=True)\n",
              "            (v_lin): Linear(in_features=768, out_features=768, bias=True)\n",
              "            (out_lin): Linear(in_features=768, out_features=768, bias=True)\n",
              "          )\n",
              "          (sa_layer_norm): LayerNorm((768,), eps=1e-12, elementwise_affine=True)\n",
              "          (ffn): FFN(\n",
              "            (dropout): Dropout(p=0.1, inplace=False)\n",
              "            (lin1): Linear(in_features=768, out_features=3072, bias=True)\n",
              "            (lin2): Linear(in_features=3072, out_features=768, bias=True)\n",
              "            (activation): GELUActivation()\n",
              "          )\n",
              "          (output_layer_norm): LayerNorm((768,), eps=1e-12, elementwise_affine=True)\n",
              "        )\n",
              "      )\n",
              "    )\n",
              "  )\n",
              "  (pre_classifier): Linear(in_features=768, out_features=768, bias=True)\n",
              "  (classifier): Linear(in_features=768, out_features=11, bias=True)\n",
              "  (dropout): Dropout(p=0.2, inplace=False)\n",
              ")"
            ]
          },
          "metadata": {},
          "execution_count": 39
        }
      ]
    },
    {
      "cell_type": "code",
      "source": [
        "training_args = TrainingArguments(\n",
        "    output_dir=\"./results\",\n",
        "    per_device_eval_batch_size=8,\n",
        "    do_train=False,\n",
        "    do_eval=True,\n",
        "    report_to=[]\n",
        ")"
      ],
      "metadata": {
        "id": "RWPuLgP9dtdF"
      },
      "execution_count": null,
      "outputs": []
    },
    {
      "cell_type": "code",
      "source": [
        "trainer = Trainer(\n",
        "    model=model,\n",
        "    args=training_args,\n",
        "    eval_dataset=tokenized_testsets,\n",
        "    compute_metrics=compute_metrics,\n",
        "    tokenizer=tokenizer,\n",
        ")"
      ],
      "metadata": {
        "colab": {
          "base_uri": "https://localhost:8080/"
        },
        "id": "PIaiMFuihFN8",
        "outputId": "59fb5b8d-1f33-4072-964d-ed899911d44c"
      },
      "execution_count": null,
      "outputs": [
        {
          "output_type": "stream",
          "name": "stderr",
          "text": [
            "/usr/local/lib/python3.10/dist-packages/accelerate/accelerator.py:436: FutureWarning: Passing the following arguments to `Accelerator` is deprecated and will be removed in version 1.0 of Accelerate: dict_keys(['dispatch_batches', 'split_batches', 'even_batches', 'use_seedable_sampler']). Please pass an `accelerate.DataLoaderConfiguration` instead: \n",
            "dataloader_config = DataLoaderConfiguration(dispatch_batches=None, split_batches=False, even_batches=True, use_seedable_sampler=True)\n",
            "  warnings.warn(\n"
          ]
        }
      ]
    },
    {
      "cell_type": "code",
      "source": [
        "test_results = trainer.evaluate()"
      ],
      "metadata": {
        "colab": {
          "base_uri": "https://localhost:8080/",
          "height": 37
        },
        "id": "mm2DG13wZA82",
        "outputId": "885b49a2-35e5-4708-a8ad-95593955dfe3"
      },
      "execution_count": null,
      "outputs": [
        {
          "output_type": "display_data",
          "data": {
            "text/plain": [
              "<IPython.core.display.HTML object>"
            ],
            "text/html": [
              "\n",
              "    <div>\n",
              "      \n",
              "      <progress value='408' max='408' style='width:300px; height:20px; vertical-align: middle;'></progress>\n",
              "      [408/408 01:38]\n",
              "    </div>\n",
              "    "
            ]
          },
          "metadata": {}
        }
      ]
    },
    {
      "cell_type": "code",
      "source": [
        "wandb.log({\"test_accuracy\": test_results[\"eval_accuracy\"], \"test_loss\": test_results[\"eval_loss\"], \"test_f1\": test_results[\"eval_f1\"]})"
      ],
      "metadata": {
        "id": "16tJRA7oZDid"
      },
      "execution_count": null,
      "outputs": []
    },
    {
      "cell_type": "code",
      "source": [
        "wandb.finish()"
      ],
      "metadata": {
        "colab": {
          "base_uri": "https://localhost:8080/",
          "height": 1000,
          "referenced_widgets": [
            "a4febefecd9449b2b8b46b76c4486373",
            "2d0827b6a29d4dba9b0f7068075198ad",
            "912fb9eef33a4b3bb2a83cefa7a4307f",
            "ed6a5a0f9fbc484d8fe7b7f800648e32",
            "6fe18c5e425540729a309e83f6fa5b8a",
            "9944928a49b9486c80ac3760240c7d4f",
            "a7617f4d5b4846bc9db933736766440e",
            "e100e5e4e7bb4ab08b826cbbb3441c58"
          ]
        },
        "id": "lMLmTQsvZnOg",
        "outputId": "894f14c0-7ef6-484e-ce2f-95c3849b96ef"
      },
      "execution_count": null,
      "outputs": [
        {
          "output_type": "display_data",
          "data": {
            "text/plain": [
              "VBox(children=(Label(value='0.001 MB of 0.001 MB uploaded\\r'), FloatProgress(value=1.0, max=1.0)))"
            ],
            "application/vnd.jupyter.widget-view+json": {
              "version_major": 2,
              "version_minor": 0,
              "model_id": "a4febefecd9449b2b8b46b76c4486373"
            }
          },
          "metadata": {}
        },
        {
          "output_type": "display_data",
          "data": {
            "text/plain": [
              "<IPython.core.display.HTML object>"
            ],
            "text/html": [
              "<style>\n",
              "    table.wandb td:nth-child(1) { padding: 0 10px; text-align: left ; width: auto;} td:nth-child(2) {text-align: left ; width: 100%}\n",
              "    .wandb-row { display: flex; flex-direction: row; flex-wrap: wrap; justify-content: flex-start; width: 100% }\n",
              "    .wandb-col { display: flex; flex-direction: column; flex-basis: 100%; flex: 1; padding: 10px; }\n",
              "    </style>\n",
              "<div class=\"wandb-row\"><div class=\"wandb-col\"><h3>Run history:</h3><br/><table class=\"wandb\"><tr><td>eval/accuracy</td><td>▁▁▁▂▁▂▃▃▄▅▅▅▅▅▆▆▆▆▆▇▇█▇▇███</td></tr><tr><td>eval/f1</td><td>▁▁▁▁▃▃▄▆▅▆▆▇▆▅▇▇▇█▇▇▇██████</td></tr><tr><td>eval/loss</td><td>██████▆▆▅▅▄▄▄▄▃▃▂▃▄▂▃▁▂▁▁▁▁</td></tr><tr><td>eval/runtime</td><td>█▂▁▁▃▁▁▃▂▁▂▂▃▃▂▃▁▂▃▃▂▃▂▂▂▄▃</td></tr><tr><td>eval/samples_per_second</td><td>▁▇██▆██▆▆█▇▆▅▅▇▆█▇▅▆▆▆▆▆▆▄▅</td></tr><tr><td>eval/steps_per_second</td><td>▁▇██▆█▇▆▆█▇▆▅▅▇▆█▇▅▆▆▆▆▆▆▄▅</td></tr><tr><td>eval_accuracy</td><td>▁</td></tr><tr><td>eval_f1</td><td>▁</td></tr><tr><td>eval_loss</td><td>▁</td></tr><tr><td>test_accuracy</td><td>▁▁</td></tr><tr><td>test_f1</td><td>▁▁</td></tr><tr><td>test_loss</td><td>▁▁</td></tr><tr><td>train/epoch</td><td>▁▁▁▂▂▂▂▂▂▃▃▃▃▃▄▄▄▄▄▄▅▅▅▅▆▆▆▆▆▇▇▇▇▇▇█████</td></tr><tr><td>train/global_step</td><td>▁▁▁▂▂▂▂▂▂▃▃▃▃▄▄▄▄▄▅▅▅▅▅▆▆▆▆▇▇▇▇▇▇███████</td></tr><tr><td>train/grad_norm</td><td>▂▁▂▁▂▂▂▂▃▂▃█▇▂▇▂▄▆▆▅▇▂▄▅▃</td></tr><tr><td>train/learning_rate</td><td>██▇▇▇▇▆▆▆▅▅▅▅▄▄▄▃▃▃▂▂▂▂▁▁</td></tr><tr><td>train/loss</td><td>█▇▇▇▇▇▇▆▅▅▅▄▄▄▄▃▃▃▂▂▂▁▁▂▂</td></tr></table><br/></div><div class=\"wandb-col\"><h3>Run summary:</h3><br/><table class=\"wandb\"><tr><td>eval/accuracy</td><td>0.84495</td></tr><tr><td>eval/f1</td><td>0.56032</td></tr><tr><td>eval/loss</td><td>0.37838</td></tr><tr><td>eval/runtime</td><td>39.9883</td></tr><tr><td>eval/samples_per_second</td><td>38.636</td></tr><tr><td>eval/steps_per_second</td><td>4.851</td></tr><tr><td>eval_accuracy</td><td>0.84495</td></tr><tr><td>eval_f1</td><td>0.56032</td></tr><tr><td>eval_loss</td><td>0.37838</td></tr><tr><td>test_accuracy</td><td>0.86379</td></tr><tr><td>test_f1</td><td>0.0</td></tr><tr><td>test_loss</td><td>0.32605</td></tr><tr><td>total_flos</td><td>1324224156380160.0</td></tr><tr><td>train/epoch</td><td>1.62</td></tr><tr><td>train/global_step</td><td>1250</td></tr><tr><td>train/grad_norm</td><td>1.36202</td></tr><tr><td>train/learning_rate</td><td>3e-05</td></tr><tr><td>train/loss</td><td>0.3707</td></tr><tr><td>train_loss</td><td>0.41791</td></tr><tr><td>train_runtime</td><td>1776.9746</td></tr><tr><td>train_samples_per_second</td><td>34.773</td></tr><tr><td>train_steps_per_second</td><td>4.35</td></tr></table><br/></div></div>"
            ]
          },
          "metadata": {}
        },
        {
          "output_type": "display_data",
          "data": {
            "text/plain": [
              "<IPython.core.display.HTML object>"
            ],
            "text/html": [
              " View run <strong style=\"color:#cdcd00\">Distilbert-test</strong> at: <a href='https://wandb.ai/akhilender/nlp_course_spring_2024-HW6-distilbert/runs/t90m7pma' target=\"_blank\">https://wandb.ai/akhilender/nlp_course_spring_2024-HW6-distilbert/runs/t90m7pma</a><br/> View project at: <a href='https://wandb.ai/akhilender/nlp_course_spring_2024-HW6-distilbert' target=\"_blank\">https://wandb.ai/akhilender/nlp_course_spring_2024-HW6-distilbert</a><br/>Synced 5 W&B file(s), 0 media file(s), 0 artifact file(s) and 0 other file(s)"
            ]
          },
          "metadata": {}
        },
        {
          "output_type": "display_data",
          "data": {
            "text/plain": [
              "<IPython.core.display.HTML object>"
            ],
            "text/html": [
              "Find logs at: <code>./wandb/run-20240413_222813-t90m7pma/logs</code>"
            ]
          },
          "metadata": {}
        }
      ]
    },
    {
      "cell_type": "markdown",
      "source": [
        "## Model Inference"
      ],
      "metadata": {
        "id": "sbCts44mu_iC"
      }
    },
    {
      "cell_type": "code",
      "source": [
        "pipe = pipeline(\"text-classification\", model=model, tokenizer=tokenizer, config=config)"
      ],
      "metadata": {
        "id": "5ZxXdjJ3bIYI"
      },
      "execution_count": null,
      "outputs": []
    },
    {
      "cell_type": "code",
      "source": [
        "pipe(\"I am sad that, RCB has never won an IPL\")"
      ],
      "metadata": {
        "colab": {
          "base_uri": "https://localhost:8080/"
        },
        "id": "LtQ_2BJLfPhL",
        "outputId": "7e63c030-be80-4f61-cb52-b1448d533375"
      },
      "execution_count": null,
      "outputs": [
        {
          "output_type": "execute_result",
          "data": {
            "text/plain": [
              "[{'label': 'sadness', 'score': 0.7698304057121277}]"
            ]
          },
          "metadata": {},
          "execution_count": 48
        }
      ]
    },
    {
      "cell_type": "code",
      "source": [
        "test['Tweet'][1]"
      ],
      "metadata": {
        "colab": {
          "base_uri": "https://localhost:8080/",
          "height": 53
        },
        "id": "BO6QLc8CjwFr",
        "outputId": "24522174-951d-4e64-b420-8e7e6b726a2b"
      },
      "execution_count": null,
      "outputs": [
        {
          "output_type": "execute_result",
          "data": {
            "text/plain": [
              "'Academy of Sciences, eschews the normally sober tone of scientific papers and calls the massive loss of wildlife a “biological annihilation'"
            ],
            "application/vnd.google.colaboratory.intrinsic+json": {
              "type": "string"
            }
          },
          "metadata": {},
          "execution_count": 49
        }
      ]
    },
    {
      "cell_type": "code",
      "source": [
        "pipe(test['Tweet'][1])"
      ],
      "metadata": {
        "colab": {
          "base_uri": "https://localhost:8080/"
        },
        "id": "VPmEnSdlf0gk",
        "outputId": "f1fbd0ff-59ca-4c1e-dff1-e1810439f933"
      },
      "execution_count": null,
      "outputs": [
        {
          "output_type": "execute_result",
          "data": {
            "text/plain": [
              "[{'label': 'disgust', 'score': 0.4360220432281494}]"
            ]
          },
          "metadata": {},
          "execution_count": 50
        }
      ]
    },
    {
      "cell_type": "code",
      "source": [
        "pipe(\"Food was awesome at that restaraunt\")"
      ],
      "metadata": {
        "colab": {
          "base_uri": "https://localhost:8080/"
        },
        "id": "dhj7GJ1ljsBY",
        "outputId": "bb328326-8cb9-4f2a-e487-bd94082c1a8e"
      },
      "execution_count": null,
      "outputs": [
        {
          "output_type": "execute_result",
          "data": {
            "text/plain": [
              "[{'label': 'joy', 'score': 0.6293020844459534}]"
            ]
          },
          "metadata": {},
          "execution_count": 51
        }
      ]
    },
    {
      "cell_type": "code",
      "source": [
        "pipe(\"Very sad that Dallas Cowboys have lost the game. Pain bro!\")"
      ],
      "metadata": {
        "colab": {
          "base_uri": "https://localhost:8080/"
        },
        "id": "VnGkjA93tSmk",
        "outputId": "38eb83ff-37e6-4531-c8c9-c38346606b15"
      },
      "execution_count": null,
      "outputs": [
        {
          "output_type": "execute_result",
          "data": {
            "text/plain": [
              "[{'label': 'sadness', 'score': 0.8059729337692261}]"
            ]
          },
          "metadata": {},
          "execution_count": 60
        }
      ]
    }
  ]
}